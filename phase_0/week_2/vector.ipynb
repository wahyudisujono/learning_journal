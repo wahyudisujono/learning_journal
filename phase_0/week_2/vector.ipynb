{
  "nbformat": 4,
  "nbformat_minor": 0,
  "metadata": {
    "colab": {
      "name": "Vector.ipynb",
      "provenance": [],
      "collapsed_sections": []
    },
    "kernelspec": {
      "name": "python3",
      "display_name": "Python 3"
    },
    "language_info": {
      "name": "python"
    }
  },
  "cells": [
    {
      "cell_type": "markdown",
      "source": [
        "# **VECTOR**"
      ],
      "metadata": {
        "id": "HPG7kNDBu1AV"
      }
    },
    {
      "cell_type": "code",
      "execution_count": null,
      "metadata": {
        "id": "X-tg2KbLqd1q"
      },
      "outputs": [],
      "source": [
        "import numpy as np\n",
        "import matplotlib.pyplot as plt"
      ]
    },
    {
      "cell_type": "code",
      "source": [
        "a = np.array([1, 2, 3])\n",
        "b = np.array([1, 4, 3])\n",
        "\n",
        "a + b"
      ],
      "metadata": {
        "colab": {
          "base_uri": "https://localhost:8080/"
        },
        "id": "ChLWcYNzqlWk",
        "outputId": "c716223e-75a3-4c25-fc9d-67086a063f4e"
      },
      "execution_count": null,
      "outputs": [
        {
          "output_type": "execute_result",
          "data": {
            "text/plain": [
              "array([2, 6, 6])"
            ]
          },
          "metadata": {},
          "execution_count": 2
        }
      ]
    },
    {
      "cell_type": "code",
      "source": [
        "list1 = [1, 2, 3]\n",
        "list2 = [1, 4, 3]\n",
        "\n",
        "list1 + list2"
      ],
      "metadata": {
        "colab": {
          "base_uri": "https://localhost:8080/"
        },
        "id": "wrJcNieevH2o",
        "outputId": "bfdc6b77-2de9-4408-e4f5-c96ded41bccb"
      },
      "execution_count": null,
      "outputs": [
        {
          "output_type": "execute_result",
          "data": {
            "text/plain": [
              "[1, 2, 3, 1, 4, 3]"
            ]
          },
          "metadata": {},
          "execution_count": 3
        }
      ]
    },
    {
      "cell_type": "code",
      "source": [
        "# indexing\n",
        "a"
      ],
      "metadata": {
        "colab": {
          "base_uri": "https://localhost:8080/"
        },
        "id": "Fd7Vo3bjvrOL",
        "outputId": "e3e65584-4f94-43da-f742-e7400f03bb42"
      },
      "execution_count": null,
      "outputs": [
        {
          "output_type": "execute_result",
          "data": {
            "text/plain": [
              "array([1, 2, 3])"
            ]
          },
          "metadata": {},
          "execution_count": 4
        }
      ]
    },
    {
      "cell_type": "code",
      "source": [
        "a[-1]"
      ],
      "metadata": {
        "colab": {
          "base_uri": "https://localhost:8080/"
        },
        "id": "GvWxDr0lvw9U",
        "outputId": "ad541789-c428-44d6-f2f0-ce01e72a98ab"
      },
      "execution_count": null,
      "outputs": [
        {
          "output_type": "execute_result",
          "data": {
            "text/plain": [
              "3"
            ]
          },
          "metadata": {},
          "execution_count": 5
        }
      ]
    },
    {
      "cell_type": "markdown",
      "source": [
        "**Vector Norm**"
      ],
      "metadata": {
        "id": "Bzf7LXlOwawb"
      }
    },
    {
      "cell_type": "code",
      "source": [
        "def plot_vector2d(vector2d, origin=[0, 0], **options):\n",
        "    return plt.arrow(origin[0], origin[1], vector2d[0], vector2d[1],\n",
        "              head_width=0.2, head_length=0.3, length_includes_head=True,\n",
        "              **options)"
      ],
      "metadata": {
        "id": "RbQnR8vRwaHC"
      },
      "execution_count": null,
      "outputs": []
    },
    {
      "cell_type": "code",
      "source": [
        "v = np.array([4, 3])\n",
        "\n",
        "plot_vector2d(v, color='r')\n",
        "\n",
        "plt.axis([0,5,0,5]) # rentang axis sumbu x dan y\n",
        "plt.grid()\n",
        "plt.show()"
      ],
      "metadata": {
        "colab": {
          "base_uri": "https://localhost:8080/",
          "height": 269
        },
        "id": "Jib9plxywhNC",
        "outputId": "908aa3ec-8ab7-42ef-df5a-166626d6ccc9"
      },
      "execution_count": null,
      "outputs": [
        {
          "output_type": "display_data",
          "data": {
            "text/plain": [
              "<Figure size 432x288 with 1 Axes>"
            ],
            "image/png": "[encoded data removed]"
          },
          "metadata": {
            "needs_background": "light"
          }
        }
      ]
    },
    {
      "cell_type": "code",
      "source": [
        "# vector norm\n",
        "np.linalg.norm(v)"
      ],
      "metadata": {
        "colab": {
          "base_uri": "https://localhost:8080/"
        },
        "id": "5e20bM6axYhf",
        "outputId": "f867d66a-4de1-490b-df23-aa5ff10b36ec"
      },
      "execution_count": null,
      "outputs": [
        {
          "output_type": "execute_result",
          "data": {
            "text/plain": [
              "5.0"
            ]
          },
          "metadata": {},
          "execution_count": 8
        }
      ]
    },
    {
      "cell_type": "code",
      "source": [
        "print(a)\n",
        "np.linalg.norm(a)"
      ],
      "metadata": {
        "colab": {
          "base_uri": "https://localhost:8080/"
        },
        "id": "h6jKjeLKx2eB",
        "outputId": "8fab943a-144e-4986-e9c3-d11e6c56d082"
      },
      "execution_count": null,
      "outputs": [
        {
          "output_type": "stream",
          "name": "stdout",
          "text": [
            "[1 2 3]\n"
          ]
        },
        {
          "output_type": "execute_result",
          "data": {
            "text/plain": [
              "3.7416573867739413"
            ]
          },
          "metadata": {},
          "execution_count": 9
        }
      ]
    },
    {
      "cell_type": "code",
      "source": [
        "# manhattan distance\n",
        "np.linalg.norm(v, 1)"
      ],
      "metadata": {
        "colab": {
          "base_uri": "https://localhost:8080/"
        },
        "id": "t-zf4prQxinD",
        "outputId": "fa983811-4d05-4b23-fcaa-d1fffc5717f4"
      },
      "execution_count": null,
      "outputs": [
        {
          "output_type": "execute_result",
          "data": {
            "text/plain": [
              "7.0"
            ]
          },
          "metadata": {},
          "execution_count": 10
        }
      ]
    },
    {
      "cell_type": "code",
      "source": [
        "# vector unit/ vector satuan\n",
        "np.linalg.norm(np.array([4/5, 3/5]))"
      ],
      "metadata": {
        "colab": {
          "base_uri": "https://localhost:8080/"
        },
        "id": "3MMDWnH0yALM",
        "outputId": "ff7349eb-83cd-4597-8792-7c8730a4d557"
      },
      "execution_count": null,
      "outputs": [
        {
          "output_type": "execute_result",
          "data": {
            "text/plain": [
              "1.0"
            ]
          },
          "metadata": {},
          "execution_count": 11
        }
      ]
    },
    {
      "cell_type": "code",
      "source": [
        "np.linalg.norm((a/np.linalg.norm(a)))"
      ],
      "metadata": {
        "colab": {
          "base_uri": "https://localhost:8080/"
        },
        "id": "SfLO1SSNyyLi",
        "outputId": "3e5ae339-3ad3-4053-a5f3-729238799ee5"
      },
      "execution_count": null,
      "outputs": [
        {
          "output_type": "execute_result",
          "data": {
            "text/plain": [
              "1.0"
            ]
          },
          "metadata": {},
          "execution_count": 12
        }
      ]
    },
    {
      "cell_type": "markdown",
      "source": [
        "## Operasi Aritmatika"
      ],
      "metadata": {
        "id": "c9XpoHVuzFrv"
      }
    },
    {
      "cell_type": "markdown",
      "source": [
        "**penjumlahan**"
      ],
      "metadata": {
        "id": "7Mo2yFLgzLqw"
      }
    },
    {
      "cell_type": "code",
      "source": [
        "print(a, b)"
      ],
      "metadata": {
        "colab": {
          "base_uri": "https://localhost:8080/"
        },
        "id": "GZEAefEozXpk",
        "outputId": "b32b4a02-dabf-49e2-ed31-ee9efdf61e96"
      },
      "execution_count": null,
      "outputs": [
        {
          "output_type": "stream",
          "name": "stdout",
          "text": [
            "[1 2 3] [1 4 3]\n"
          ]
        }
      ]
    },
    {
      "cell_type": "code",
      "source": [
        "# penjumlahan vektor dengan skalar\n",
        "a + 10"
      ],
      "metadata": {
        "colab": {
          "base_uri": "https://localhost:8080/"
        },
        "id": "K9beUCzWzDrB",
        "outputId": "99e0ec37-ccca-4504-bdce-e27108ddba66"
      },
      "execution_count": null,
      "outputs": [
        {
          "output_type": "execute_result",
          "data": {
            "text/plain": [
              "array([11, 12, 13])"
            ]
          },
          "metadata": {},
          "execution_count": 14
        }
      ]
    },
    {
      "cell_type": "code",
      "source": [
        "# penjumlahan vektor dengan vektor\n",
        "a + b"
      ],
      "metadata": {
        "colab": {
          "base_uri": "https://localhost:8080/"
        },
        "id": "zSCCFYl8zUQm",
        "outputId": "b62cf9a5-0232-4fce-80c7-c07b443c3134"
      },
      "execution_count": null,
      "outputs": [
        {
          "output_type": "execute_result",
          "data": {
            "text/plain": [
              "array([2, 6, 6])"
            ]
          },
          "metadata": {},
          "execution_count": 15
        }
      ]
    },
    {
      "cell_type": "code",
      "source": [
        "v1 = np.array([1, 4])\n",
        "v2 = np.array([6, 1])\n",
        "\n",
        "plot_vector2d(v1, color='r')\n",
        "plot_vector2d(v2, origin=v1, color='g')\n",
        "plot_vector2d(v1+v2, color='b')\n",
        "\n",
        "plt.axis([0,10,0,10]) # rentang axis sumbu x dan y\n",
        "plt.grid()\n",
        "plt.show()"
      ],
      "metadata": {
        "colab": {
          "base_uri": "https://localhost:8080/",
          "height": 269
        },
        "id": "tZgb-quV0MrN",
        "outputId": "2e5313d8-98e4-4aec-d6b8-41f88ee08015"
      },
      "execution_count": null,
      "outputs": [
        {
          "output_type": "display_data",
          "data": {
            "text/plain": [
              "<Figure size 432x288 with 1 Axes>"
            ],
            "image/png": "[encoded data removed]"
          },
          "metadata": {
            "needs_background": "light"
          }
        }
      ]
    },
    {
      "cell_type": "code",
      "source": [
        "v1 + v2"
      ],
      "metadata": {
        "colab": {
          "base_uri": "https://localhost:8080/"
        },
        "id": "wlwdyJtV0mie",
        "outputId": "f9dc21cc-3025-4e63-fec6-bd002813c8e4"
      },
      "execution_count": null,
      "outputs": [
        {
          "output_type": "execute_result",
          "data": {
            "text/plain": [
              "array([7, 5])"
            ]
          },
          "metadata": {},
          "execution_count": 17
        }
      ]
    },
    {
      "cell_type": "markdown",
      "source": [
        "**pengurangan**"
      ],
      "metadata": {
        "id": "WVoBtavCzv61"
      }
    },
    {
      "cell_type": "code",
      "source": [
        "# pengurangan vektor dengan skalar\n",
        "10 - a"
      ],
      "metadata": {
        "colab": {
          "base_uri": "https://localhost:8080/"
        },
        "id": "FWp5a6f6zuzj",
        "outputId": "1f4e3f60-e3d9-43d7-c9cb-261716a3d60b"
      },
      "execution_count": null,
      "outputs": [
        {
          "output_type": "execute_result",
          "data": {
            "text/plain": [
              "array([9, 8, 7])"
            ]
          },
          "metadata": {},
          "execution_count": 18
        }
      ]
    },
    {
      "cell_type": "code",
      "source": [
        "# pengurangan vektor dengan vektor\n",
        "b - a"
      ],
      "metadata": {
        "colab": {
          "base_uri": "https://localhost:8080/"
        },
        "id": "G1-0IcZez-l8",
        "outputId": "c34b7226-2947-46f3-b71b-b9cf05c048fa"
      },
      "execution_count": null,
      "outputs": [
        {
          "output_type": "execute_result",
          "data": {
            "text/plain": [
              "array([0, 2, 0])"
            ]
          },
          "metadata": {},
          "execution_count": 19
        }
      ]
    },
    {
      "cell_type": "code",
      "source": [
        "v1 = np.array([1, 4])\n",
        "v2 = np.array([6, 1])\n",
        "\n",
        "plot_vector2d(v1, color='r')\n",
        "plot_vector2d(-v2, origin=v1, color='g')\n",
        "plot_vector2d(v1-v2, color='b')\n",
        "\n",
        "plt.axis([-6,6,-6,6]) # rentang axis sumbu x dan y\n",
        "plt.axvline(0,0)\n",
        "plt.axhline(0,0)\n",
        "plt.grid()\n",
        "plt.show()"
      ],
      "metadata": {
        "colab": {
          "base_uri": "https://localhost:8080/",
          "height": 269
        },
        "id": "O5ZDGYMc1UEE",
        "outputId": "72de615d-2793-4a2a-db7b-43e33cc0ff73"
      },
      "execution_count": null,
      "outputs": [
        {
          "output_type": "display_data",
          "data": {
            "text/plain": [
              "<Figure size 432x288 with 1 Axes>"
            ],
            "image/png": "[encoded data removed]"
          },
          "metadata": {
            "needs_background": "light"
          }
        }
      ]
    },
    {
      "cell_type": "code",
      "source": [
        "v1 - v2"
      ],
      "metadata": {
        "colab": {
          "base_uri": "https://localhost:8080/"
        },
        "id": "yXkEkkpj1sgt",
        "outputId": "6c33e09c-a89a-49d9-f648-7374de6c7b01"
      },
      "execution_count": null,
      "outputs": [
        {
          "output_type": "execute_result",
          "data": {
            "text/plain": [
              "array([-5,  3])"
            ]
          },
          "metadata": {},
          "execution_count": 21
        }
      ]
    },
    {
      "cell_type": "markdown",
      "source": [
        "**pembagian**"
      ],
      "metadata": {
        "id": "mY679rgc2L0R"
      }
    },
    {
      "cell_type": "code",
      "source": [
        "print(a,b)"
      ],
      "metadata": {
        "colab": {
          "base_uri": "https://localhost:8080/"
        },
        "id": "EltNqU6K2UM-",
        "outputId": "c9d49120-498d-48f7-a77c-7e791f2feec2"
      },
      "execution_count": null,
      "outputs": [
        {
          "output_type": "stream",
          "name": "stdout",
          "text": [
            "[1 2 3] [1 4 3]\n"
          ]
        }
      ]
    },
    {
      "cell_type": "code",
      "source": [
        "# pembagian vektor dengan skalar\n",
        "15 / a"
      ],
      "metadata": {
        "colab": {
          "base_uri": "https://localhost:8080/"
        },
        "id": "hDz_PnNz2MDn",
        "outputId": "82d5f9ac-f1e2-4405-fa2b-b4499ccad0e7"
      },
      "execution_count": null,
      "outputs": [
        {
          "output_type": "execute_result",
          "data": {
            "text/plain": [
              "array([15. ,  7.5,  5. ])"
            ]
          },
          "metadata": {},
          "execution_count": 23
        }
      ]
    },
    {
      "cell_type": "code",
      "source": [
        "# pembagian vektor dengan vektor\n",
        "a / b"
      ],
      "metadata": {
        "colab": {
          "base_uri": "https://localhost:8080/"
        },
        "id": "UdaOUUIu2cZ_",
        "outputId": "ff4f3bfa-9cb2-4b9a-c89f-611be2baa3f5"
      },
      "execution_count": null,
      "outputs": [
        {
          "output_type": "execute_result",
          "data": {
            "text/plain": [
              "array([1. , 0.5, 1. ])"
            ]
          },
          "metadata": {},
          "execution_count": 24
        }
      ]
    },
    {
      "cell_type": "markdown",
      "source": [
        "**perkalian**\n",
        "- perkalian vector dengan scalar\n",
        "- perkalian vector dengan vector -- element-wise multiplication\n",
        "- dot product"
      ],
      "metadata": {
        "id": "7R74H4f82vkG"
      }
    },
    {
      "cell_type": "code",
      "source": [
        "# perkalian vektor dengan scalar\n",
        "10 * a"
      ],
      "metadata": {
        "colab": {
          "base_uri": "https://localhost:8080/"
        },
        "id": "Gva0B5v82uyl",
        "outputId": "04f96367-e182-4462-eff7-40ce52dbe57d"
      },
      "execution_count": null,
      "outputs": [
        {
          "output_type": "execute_result",
          "data": {
            "text/plain": [
              "array([10, 20, 30])"
            ]
          },
          "metadata": {},
          "execution_count": 25
        }
      ]
    },
    {
      "cell_type": "code",
      "source": [
        "v1 = np.array([2, 4])\n",
        "\n",
        "plot_vector2d(v1, color='r')\n",
        "plot_vector2d(-1.5*v1, color='g')\n",
        "\n",
        "plt.axis([-10,10,-10,10]) # rentang axis sumbu x dan y\n",
        "plt.axvline(0,0)\n",
        "plt.axhline(0,0)\n",
        "plt.grid()\n",
        "plt.show()"
      ],
      "metadata": {
        "colab": {
          "base_uri": "https://localhost:8080/",
          "height": 269
        },
        "id": "MQH1GjFh3BpI",
        "outputId": "f28877a3-5892-47c9-fe54-9367c3d84089"
      },
      "execution_count": null,
      "outputs": [
        {
          "output_type": "display_data",
          "data": {
            "text/plain": [
              "<Figure size 432x288 with 1 Axes>"
            ],
            "image/png": "[encoded data removed]"
          },
          "metadata": {
            "needs_background": "light"
          }
        }
      ]
    },
    {
      "cell_type": "code",
      "source": [
        "2 * v1"
      ],
      "metadata": {
        "colab": {
          "base_uri": "https://localhost:8080/"
        },
        "id": "qJAh8Gyu3aKU",
        "outputId": "1f5b18cc-07dd-4347-8483-f8e23a5e99dd"
      },
      "execution_count": null,
      "outputs": [
        {
          "output_type": "execute_result",
          "data": {
            "text/plain": [
              "array([4, 8])"
            ]
          },
          "metadata": {},
          "execution_count": 27
        }
      ]
    },
    {
      "cell_type": "code",
      "source": [
        "# perkalian vector dengan vector - element wise multiplication\n",
        "a * b"
      ],
      "metadata": {
        "colab": {
          "base_uri": "https://localhost:8080/"
        },
        "id": "cIxyeE8c4XuW",
        "outputId": "de1ff7fa-7ac5-4571-a5b5-22976b886553"
      },
      "execution_count": null,
      "outputs": [
        {
          "output_type": "execute_result",
          "data": {
            "text/plain": [
              "array([1, 8, 9])"
            ]
          },
          "metadata": {},
          "execution_count": 28
        }
      ]
    },
    {
      "cell_type": "code",
      "source": [
        "print(a, b)"
      ],
      "metadata": {
        "colab": {
          "base_uri": "https://localhost:8080/"
        },
        "id": "5h6fZWrw4hGr",
        "outputId": "c710c780-2416-4534-8321-95e0c3ab35c2"
      },
      "execution_count": null,
      "outputs": [
        {
          "output_type": "stream",
          "name": "stdout",
          "text": [
            "[1 2 3] [1 4 3]\n"
          ]
        }
      ]
    },
    {
      "cell_type": "code",
      "source": [
        "# dot product\n",
        "np.dot(a, b)"
      ],
      "metadata": {
        "colab": {
          "base_uri": "https://localhost:8080/"
        },
        "id": "qksPjxei5UHA",
        "outputId": "f4413785-2b7e-4abf-fb6d-33e7cba97a7a"
      },
      "execution_count": null,
      "outputs": [
        {
          "output_type": "execute_result",
          "data": {
            "text/plain": [
              "18"
            ]
          },
          "metadata": {},
          "execution_count": 30
        }
      ]
    },
    {
      "cell_type": "code",
      "source": [
        "a.dot(b)"
      ],
      "metadata": {
        "colab": {
          "base_uri": "https://localhost:8080/"
        },
        "id": "oVPmoHq15dlN",
        "outputId": "d5440737-9a5a-4e3a-cc3e-33362e3f603c"
      },
      "execution_count": null,
      "outputs": [
        {
          "output_type": "execute_result",
          "data": {
            "text/plain": [
              "18"
            ]
          },
          "metadata": {},
          "execution_count": 31
        }
      ]
    },
    {
      "cell_type": "code",
      "source": [
        "a @ b"
      ],
      "metadata": {
        "colab": {
          "base_uri": "https://localhost:8080/"
        },
        "id": "jYnIB07t5gOs",
        "outputId": "5d262786-c4a5-47e3-ec77-f29fe45baa72"
      },
      "execution_count": null,
      "outputs": [
        {
          "output_type": "execute_result",
          "data": {
            "text/plain": [
              "18"
            ]
          },
          "metadata": {},
          "execution_count": 32
        }
      ]
    },
    {
      "cell_type": "markdown",
      "source": [
        "## **Cosine Similarity**"
      ],
      "metadata": {
        "id": "tTyT9zC66OFQ"
      }
    },
    {
      "cell_type": "code",
      "source": [
        "print(a, b)"
      ],
      "metadata": {
        "colab": {
          "base_uri": "https://localhost:8080/"
        },
        "id": "xVDMIax96OTm",
        "outputId": "63b541ed-88de-4c24-c216-71693fb55ddb"
      },
      "execution_count": null,
      "outputs": [
        {
          "output_type": "stream",
          "name": "stdout",
          "text": [
            "[1 2 3] [1 4 3]\n"
          ]
        }
      ]
    },
    {
      "cell_type": "code",
      "source": [
        "cos_theta = a @ b / (np.linalg.norm(a) * np.linalg.norm(b))\n",
        "cos_theta"
      ],
      "metadata": {
        "colab": {
          "base_uri": "https://localhost:8080/"
        },
        "id": "JmH3I6CW6YQ7",
        "outputId": "21a25c84-813c-4b15-afcb-ba9abaa3a267"
      },
      "execution_count": null,
      "outputs": [
        {
          "output_type": "execute_result",
          "data": {
            "text/plain": [
              "0.9434563530497265"
            ]
          },
          "metadata": {},
          "execution_count": 34
        }
      ]
    },
    {
      "cell_type": "code",
      "source": [
        "arr_1 = np.array([8, 0])\n",
        "arr_2 = np.array([0, 7])\n",
        "\n",
        "plot_vector2d(arr_1, color='r')\n",
        "plot_vector2d(arr_2, color='g')\n",
        "\n",
        "plt.axis([0,10,0,10]) # rentang axis sumbu x dan y\n",
        "plt.grid()\n",
        "plt.show()"
      ],
      "metadata": {
        "colab": {
          "base_uri": "https://localhost:8080/",
          "height": 269
        },
        "id": "wJgdT6226zoA",
        "outputId": "a67ce8c9-05f3-4d80-9a38-7f8f467417f7"
      },
      "execution_count": null,
      "outputs": [
        {
          "output_type": "display_data",
          "data": {
            "text/plain": [
              "<Figure size 432x288 with 1 Axes>"
            ],
            "image/png": "[encoded data removed]"
          },
          "metadata": {
            "needs_background": "light"
          }
        }
      ]
    },
    {
      "cell_type": "code",
      "source": [
        "cos_theta = arr_1 @ arr_2 / (np.linalg.norm(arr_1) * np.linalg.norm(arr_2))\n",
        "cos_theta"
      ],
      "metadata": {
        "colab": {
          "base_uri": "https://localhost:8080/"
        },
        "id": "OERQt3617wFx",
        "outputId": "898e2c2c-f89f-4370-9f0e-323e8335dca9"
      },
      "execution_count": null,
      "outputs": [
        {
          "output_type": "execute_result",
          "data": {
            "text/plain": [
              "0.0"
            ]
          },
          "metadata": {},
          "execution_count": 36
        }
      ]
    },
    {
      "cell_type": "code",
      "source": [
        "#convert cos_theta to radian\n",
        "rad = np.arccos(cos_theta)\n",
        "rad"
      ],
      "metadata": {
        "colab": {
          "base_uri": "https://localhost:8080/"
        },
        "id": "CyWyN393DZKL",
        "outputId": "6ff71d6e-0920-485e-eae2-4bbf006ef67d"
      },
      "execution_count": null,
      "outputs": [
        {
          "output_type": "execute_result",
          "data": {
            "text/plain": [
              "1.5707963267948966"
            ]
          },
          "metadata": {},
          "execution_count": 37
        }
      ]
    },
    {
      "cell_type": "code",
      "source": [
        "# convert radian to degree\n",
        "degree = np.degrees(rad)\n",
        "degree"
      ],
      "metadata": {
        "colab": {
          "base_uri": "https://localhost:8080/"
        },
        "id": "07XNcNikEXLe",
        "outputId": "3780064e-6625-47b4-95d9-77bbb65d6e4a"
      },
      "execution_count": null,
      "outputs": [
        {
          "output_type": "execute_result",
          "data": {
            "text/plain": [
              "90.0"
            ]
          },
          "metadata": {},
          "execution_count": 38
        }
      ]
    },
    {
      "cell_type": "code",
      "source": [
        "np.rad2deg(rad)"
      ],
      "metadata": {
        "colab": {
          "base_uri": "https://localhost:8080/"
        },
        "id": "4v3WAuMmEzYr",
        "outputId": "e93d8812-195c-4e8b-af17-6a1aa96fb481"
      },
      "execution_count": null,
      "outputs": [
        {
          "output_type": "execute_result",
          "data": {
            "text/plain": [
              "90.0"
            ]
          },
          "metadata": {},
          "execution_count": 39
        }
      ]
    },
    {
      "cell_type": "code",
      "source": [
        "arr_1 = np.array([8, 0])\n",
        "arr_2 = np.array([7, 0])\n",
        "\n",
        "def cos_similarity(arr_1, arr_2):\n",
        "  cos_theta = arr_1 @ arr_2 / (np.linalg.norm(arr_1) * np.linalg.norm(arr_2))\n",
        "  return cos_theta"
      ],
      "metadata": {
        "id": "C7df7R1u8Bcm"
      },
      "execution_count": null,
      "outputs": []
    },
    {
      "cell_type": "code",
      "source": [
        "cos_similarity(arr_1, arr_2)"
      ],
      "metadata": {
        "colab": {
          "base_uri": "https://localhost:8080/"
        },
        "id": "yaUn4_vB8Ua-",
        "outputId": "eb5df82f-aeee-4453-d3eb-847be37bcfc8"
      },
      "execution_count": null,
      "outputs": [
        {
          "output_type": "execute_result",
          "data": {
            "text/plain": [
              "1.0"
            ]
          },
          "metadata": {},
          "execution_count": 41
        }
      ]
    },
    {
      "cell_type": "markdown",
      "source": [
        "**contoh implementasi kasus**"
      ],
      "metadata": {
        "id": "6XJ9THHF8z1O"
      }
    },
    {
      "cell_type": "markdown",
      "source": [
        "- kalimat 1 = kemarin saya pergi ke rumah kakek saya\n",
        "- kalimat 2 = kemarin saya pergi ke rumah nenek saya\n",
        "\n",
        "| Kata Unik | Kemunculan Kata di teks_1 | Kemunculan Kata di teks_2 |\n",
        "| --- | --- | --- |\n",
        "| kemarin | 1 | 1 |\n",
        "| saya | 2 | 2 | \n",
        "| pergi | 1 | 1 | \n",
        "| ke | 1 | 1 | \n",
        "| rumah | 1 | 1 | \n",
        "| kakek | 1 | 0 | \n",
        "| nenek | 0 | 1 | "
      ],
      "metadata": {
        "id": "BeQJ2Tbv83CO"
      }
    },
    {
      "cell_type": "code",
      "source": [
        "kal_1 = np.array([1, 2, 1, 1, 1, 1, 0])\n",
        "kal_2 = np.array([1, 2, 1, 1, 1, 0, 1])"
      ],
      "metadata": {
        "id": "Ger8wbOj8zQv"
      },
      "execution_count": null,
      "outputs": []
    },
    {
      "cell_type": "code",
      "source": [
        "print(kal_1)\n",
        "print(kal_2)"
      ],
      "metadata": {
        "colab": {
          "base_uri": "https://localhost:8080/"
        },
        "id": "wmjL9f-C93dw",
        "outputId": "9a5500af-f50f-4737-aa79-7b59dda3f72a"
      },
      "execution_count": null,
      "outputs": [
        {
          "output_type": "stream",
          "name": "stdout",
          "text": [
            "[1 2 1 1 1 1 0]\n",
            "[1 2 1 1 1 0 1]\n"
          ]
        }
      ]
    },
    {
      "cell_type": "code",
      "source": [
        "cos_sim = kal_1 @ kal_2 / (np.linalg.norm(kal_1) * np.linalg.norm(kal_2))\n",
        "cos_sim"
      ],
      "metadata": {
        "colab": {
          "base_uri": "https://localhost:8080/"
        },
        "id": "bbJiwfK29-1Q",
        "outputId": "f71fd6bd-4fd6-4b57-d055-8a89c6b7a2b0"
      },
      "execution_count": null,
      "outputs": [
        {
          "output_type": "execute_result",
          "data": {
            "text/plain": [
              "0.8888888888888888"
            ]
          },
          "metadata": {},
          "execution_count": 44
        }
      ]
    },
    {
      "cell_type": "markdown",
      "source": [
        "- kalimat_1 = saya pulang dari banjarmasin\n",
        "- kalimat_2 = pagi tadi saya ujian livecode\n",
        "\n",
        "| Kata Unik | Jumlah Kata di teks_1 | Jumlah Kata di teks_2 |\n",
        "| --- | --- | --- |\n",
        "| saya | 1 | 1 | \n",
        "| pulang | 1 | 0 | \n",
        "| dari | 1 | 0 |\n",
        "| banjarmasin | 1 | 0 | \n",
        "| pagi | 0 | 1 | \n",
        "| tadi | 0 | 1 | \n",
        "| ujian | 0 | 1 | \n",
        "| livecode | 0 | 1 | "
      ],
      "metadata": {
        "id": "kjzqXSJg-W3g"
      }
    },
    {
      "cell_type": "code",
      "source": [
        "kal_1 = np.array([1, 1, 1, 1, 0, 0, 0, 0])\n",
        "kal_2 = np.array([1, 0, 0, 0, 1, 1, 1, 1])\n",
        "\n",
        "cos_theta = kal_1 @ kal_2 / (np.linalg.norm(kal_1) * np.linalg.norm(kal_2))\n",
        "cos_theta"
      ],
      "metadata": {
        "colab": {
          "base_uri": "https://localhost:8080/"
        },
        "id": "7XrYxfrw-WPy",
        "outputId": "abd15615-4ad7-4b44-8df0-b512d502729c"
      },
      "execution_count": null,
      "outputs": [
        {
          "output_type": "execute_result",
          "data": {
            "text/plain": [
              "0.22360679774997896"
            ]
          },
          "metadata": {},
          "execution_count": 45
        }
      ]
    },
    {
      "cell_type": "markdown",
      "source": [
        "- kal_1 = kucing mengejar tikus\n",
        "- kal_2 = tikus mengejar kucing\n",
        "\n",
        "| Kata Unik | Jumlah Kata di teks_1 | Jumlah Kata di teks_2 |\n",
        "| --- | --- | --- |\n",
        "| kucing | 1 | 1 | \n",
        "| mengejar | 1 | 1 | \n",
        "| tikus | 1 | 1 |"
      ],
      "metadata": {
        "id": "r3VM9DnIAAmz"
      }
    },
    {
      "cell_type": "code",
      "source": [
        "arr_1 = np.array([1, 1, 1])\n",
        "arr_2 = np.array([1, 1, 1])\n",
        "\n",
        "cos_similarity(arr_1, arr_2)"
      ],
      "metadata": {
        "colab": {
          "base_uri": "https://localhost:8080/"
        },
        "id": "uSAUbZt8ABhi",
        "outputId": "f8af258b-cc5b-44f9-ed47-e06a93878e4a"
      },
      "execution_count": null,
      "outputs": [
        {
          "output_type": "execute_result",
          "data": {
            "text/plain": [
              "1.0000000000000002"
            ]
          },
          "metadata": {},
          "execution_count": 46
        }
      ]
    }
  ]
}