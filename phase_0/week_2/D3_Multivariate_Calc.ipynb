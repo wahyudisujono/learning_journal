{
  "cells": [
    {
      "cell_type": "markdown",
      "metadata": {},
      "source": [
        "## Penyelesaian  Integral dan Diferensiasi dengan sympy"
      ]
    },
    {
      "cell_type": "markdown",
      "metadata": {},
      "source": [
        "import Library"
      ]
    },
    {
      "cell_type": "code",
      "execution_count": 17,
      "metadata": {
        "id": "7lh7kh1uJ6Pw"
      },
      "outputs": [],
      "source": [
        "import sympy as sy"
      ]
    },
    {
      "cell_type": "markdown",
      "metadata": {},
      "source": [
        "menuliskan bahwa x adalah simbol bukan variabel"
      ]
    },
    {
      "cell_type": "code",
      "execution_count": 18,
      "metadata": {
        "id": "t_pEZ_p3KGBr"
      },
      "outputs": [],
      "source": [
        "x = sy.Symbol('x', real = True)"
      ]
    },
    {
      "cell_type": "markdown",
      "metadata": {},
      "source": [
        "menulis fungsi"
      ]
    },
    {
      "cell_type": "code",
      "execution_count": 84,
      "metadata": {
        "id": "RJRnrLCmKQUf"
      },
      "outputs": [
        {
          "data": {
            "text/latex": [
              "$\\displaystyle 2 x^{2} + 4 x - 1$"
            ],
            "text/plain": [
              "2*x**2 + 4*x - 1"
            ]
          },
          "execution_count": 84,
          "metadata": {},
          "output_type": "execute_result"
        }
      ],
      "source": [
        "y = 2*x**2+4*x-1\n",
        "y"
      ]
    },
    {
      "cell_type": "markdown",
      "metadata": {},
      "source": [
        "fungsi differensial"
      ]
    },
    {
      "cell_type": "code",
      "execution_count": 85,
      "metadata": {
        "colab": {
          "base_uri": "https://localhost:8080/"
        },
        "id": "3st4_6KOKaEg",
        "outputId": "17bd5db7-5246-4908-dc2f-2c29f928d469"
      },
      "outputs": [
        {
          "data": {
            "text/latex": [
              "$\\displaystyle 4 x + 4$"
            ],
            "text/plain": [
              "4*x + 4"
            ]
          },
          "execution_count": 85,
          "metadata": {},
          "output_type": "execute_result"
        }
      ],
      "source": [
        "y1 = y.diff(x)\n",
        "y1"
      ]
    },
    {
      "cell_type": "markdown",
      "metadata": {},
      "source": [
        "Fungsi integral"
      ]
    },
    {
      "cell_type": "code",
      "execution_count": 86,
      "metadata": {},
      "outputs": [],
      "source": [
        "yint=y.integrate(x)"
      ]
    },
    {
      "cell_type": "code",
      "execution_count": 87,
      "metadata": {},
      "outputs": [
        {
          "data": {
            "text/latex": [
              "$\\displaystyle 2 x^{2} + 4 x - 1$"
            ],
            "text/plain": [
              "2*x**2 + 4*x - 1"
            ]
          },
          "execution_count": 87,
          "metadata": {},
          "output_type": "execute_result"
        }
      ],
      "source": [
        "y"
      ]
    },
    {
      "cell_type": "code",
      "execution_count": 88,
      "metadata": {},
      "outputs": [
        {
          "data": {
            "image/png": "[encoded data removed]",
            "text/plain": [
              "<Figure size 432x288 with 1 Axes>"
            ]
          },
          "metadata": {
            "needs_background": "light"
          },
          "output_type": "display_data"
        }
      ],
      "source": [
        "from sympy.plotting import plot\n",
        "pi=plot(y, show=False)\n",
        "p2=plot(y1, show=False)\n",
        "p3=plot(yint, show=False)\n",
        "pi.append(p2[0])\n",
        "pi.append(p3[0])\n",
        "pi.show()\n"
      ]
    },
    {
      "cell_type": "markdown",
      "metadata": {},
      "source": [
        "## Pemecahan diferensial dan integral dengan numpy"
      ]
    },
    {
      "cell_type": "markdown",
      "metadata": {},
      "source": [
        "Import Library"
      ]
    },
    {
      "cell_type": "code",
      "execution_count": 28,
      "metadata": {
        "id": "pAVJBaalK7ZD"
      },
      "outputs": [],
      "source": [
        "import numpy as np"
      ]
    },
    {
      "cell_type": "markdown",
      "metadata": {},
      "source": [
        "membuat baris angka"
      ]
    },
    {
      "cell_type": "code",
      "execution_count": 36,
      "metadata": {
        "id": "fO3dbxzKK_Zt"
      },
      "outputs": [],
      "source": [
        "x = np.linspace(1,10,10)"
      ]
    },
    {
      "cell_type": "markdown",
      "metadata": {},
      "source": [
        "menulis fungsi"
      ]
    },
    {
      "cell_type": "code",
      "execution_count": 48,
      "metadata": {
        "id": "bi84QX8tLbq6"
      },
      "outputs": [
        {
          "data": {
            "text/plain": [
              "array([  5.,  15.,  29.,  47.,  69.,  95., 125., 159., 197., 239.])"
            ]
          },
          "execution_count": 48,
          "metadata": {},
          "output_type": "execute_result"
        }
      ],
      "source": [
        "y = 2*x**2 + 4*x -1\n",
        "y"
      ]
    },
    {
      "cell_type": "code",
      "execution_count": null,
      "metadata": {},
      "outputs": [],
      "source": [
        "from scipy.integrate import odeint"
      ]
    },
    {
      "cell_type": "code",
      "execution_count": 44,
      "metadata": {},
      "outputs": [
        {
          "data": {
            "text/plain": [
              "array([10., 14., 18., 22., 26., 30., 34., 38., 42.])"
            ]
          },
          "execution_count": 44,
          "metadata": {},
          "output_type": "execute_result"
        }
      ],
      "source": [
        "np.diff(y)"
      ]
    },
    {
      "cell_type": "code",
      "execution_count": 45,
      "metadata": {
        "id": "lo_fjrPNLff5"
      },
      "outputs": [],
      "source": [
        "df = np.diff(y)/np.diff(x)"
      ]
    },
    {
      "cell_type": "code",
      "execution_count": 46,
      "metadata": {
        "colab": {
          "base_uri": "https://localhost:8080/"
        },
        "id": "Oziu4LwNLj29",
        "outputId": "45c1faef-ca22-4b4b-ef70-c30e010c353e"
      },
      "outputs": [
        {
          "data": {
            "text/plain": [
              "array([10., 14., 18., 22., 26., 30., 34., 38., 42.])"
            ]
          },
          "execution_count": 46,
          "metadata": {},
          "output_type": "execute_result"
        }
      ],
      "source": [
        "df"
      ]
    },
    {
      "cell_type": "markdown",
      "metadata": {},
      "source": [
        "gradient"
      ]
    },
    {
      "cell_type": "code",
      "execution_count": 51,
      "metadata": {
        "id": "gNDdyr-ULq45"
      },
      "outputs": [
        {
          "data": {
            "text/plain": [
              "array([10., 12., 16., 20., 24., 28., 32., 36., 40., 42.])"
            ]
          },
          "execution_count": 51,
          "metadata": {},
          "output_type": "execute_result"
        }
      ],
      "source": [
        "df1 = np.gradient(y)\n",
        "df1"
      ]
    },
    {
      "cell_type": "code",
      "execution_count": 35,
      "metadata": {
        "colab": {
          "base_uri": "https://localhost:8080/"
        },
        "id": "9qjjUtX3LwMc",
        "outputId": "c3cb5d4c-89c6-4056-ca49-eed86a4502e4"
      },
      "outputs": [
        {
          "name": "stdout",
          "output_type": "stream",
          "text": [
            "[10. 12. 16. 20. 24. 28. 32. 36. 40. 42.]\n"
          ]
        }
      ],
      "source": [
        "print(df1)"
      ]
    },
    {
      "cell_type": "markdown",
      "metadata": {
        "id": "ckkycYcbhUAq"
      },
      "source": [
        "## Jacobian"
      ]
    },
    {
      "cell_type": "code",
      "execution_count": 13,
      "metadata": {
        "id": "1fqo61PmQvyU"
      },
      "outputs": [],
      "source": [
        "import sympy as sy"
      ]
    },
    {
      "cell_type": "code",
      "execution_count": 59,
      "metadata": {
        "id": "JX0jHil-QZp8"
      },
      "outputs": [
        {
          "data": {
            "text/latex": [
              "$\\displaystyle \\left[\\begin{matrix}2 x^{2} + 2 y\\\\4 x - 2 y\\end{matrix}\\right]$"
            ],
            "text/plain": [
              "Matrix([\n",
              "[2*x**2 + 2*y],\n",
              "[   4*x - 2*y]])"
            ]
          },
          "execution_count": 59,
          "metadata": {},
          "output_type": "execute_result"
        }
      ],
      "source": [
        "x, y, z= sy.symbols('x y z')\n",
        "f = sy.Matrix([2*x**2+y*2, 2*x*2 - y*2])\n",
        "f"
      ]
    },
    {
      "cell_type": "code",
      "execution_count": 15,
      "metadata": {
        "colab": {
          "base_uri": "https://localhost:8080/",
          "height": 58
        },
        "id": "QVxqU__bhej2",
        "outputId": "4a3d2d4b-f630-47bf-fe3e-13b62ddc83ea"
      },
      "outputs": [
        {
          "data": {
            "text/latex": [
              "$\\displaystyle \\left[\\begin{matrix}2 x^{2} + 2 y\\\\4 x - 2 y\\end{matrix}\\right]$"
            ],
            "text/plain": [
              "Matrix([\n",
              "[2*x**2 + 2*y],\n",
              "[   4*x - 2*y]])"
            ]
          },
          "execution_count": 15,
          "metadata": {},
          "output_type": "execute_result"
        }
      ],
      "source": [
        "f"
      ]
    },
    {
      "cell_type": "code",
      "execution_count": 16,
      "metadata": {
        "id": "5-wHseVYguIK"
      },
      "outputs": [],
      "source": [
        "X = sy.Matrix([x,y])"
      ]
    },
    {
      "cell_type": "code",
      "execution_count": 17,
      "metadata": {
        "colab": {
          "base_uri": "https://localhost:8080/",
          "height": 58
        },
        "id": "Y1w5wU1zhfgV",
        "outputId": "30c602ce-776b-44cd-8efa-5f28499e2f51"
      },
      "outputs": [
        {
          "data": {
            "text/latex": [
              "$\\displaystyle \\left[\\begin{matrix}x\\\\y\\end{matrix}\\right]$"
            ],
            "text/plain": [
              "Matrix([\n",
              "[x],\n",
              "[y]])"
            ]
          },
          "execution_count": 17,
          "metadata": {},
          "output_type": "execute_result"
        }
      ],
      "source": [
        "X"
      ]
    },
    {
      "cell_type": "code",
      "execution_count": 18,
      "metadata": {
        "colab": {
          "base_uri": "https://localhost:8080/",
          "height": 58
        },
        "id": "4qzcFrTRRMFv",
        "outputId": "9001dcf2-f2af-49c4-c1a2-9f92e03c5e32"
      },
      "outputs": [
        {
          "data": {
            "text/latex": [
              "$\\displaystyle \\left[\\begin{matrix}4 x & 2\\\\4 & -2\\end{matrix}\\right]$"
            ],
            "text/plain": [
              "Matrix([\n",
              "[4*x,  2],\n",
              "[  4, -2]])"
            ]
          },
          "execution_count": 18,
          "metadata": {},
          "output_type": "execute_result"
        }
      ],
      "source": [
        "f.jacobian(X)"
      ]
    },
    {
      "cell_type": "markdown",
      "metadata": {
        "id": "-oGZj1mfhq8W"
      },
      "source": [
        "Hessian"
      ]
    },
    {
      "cell_type": "code",
      "execution_count": 19,
      "metadata": {
        "id": "4pFXbsWwgTSd"
      },
      "outputs": [],
      "source": [
        "from sympy import hessian\n",
        "from sympy import Function"
      ]
    },
    {
      "cell_type": "code",
      "execution_count": 20,
      "metadata": {
        "id": "1yhsValWQlKZ"
      },
      "outputs": [],
      "source": [
        "f = Function('f')(x, y)"
      ]
    },
    {
      "cell_type": "code",
      "execution_count": 21,
      "metadata": {
        "colab": {
          "base_uri": "https://localhost:8080/",
          "height": 38
        },
        "id": "Tt2bPHVMRCYq",
        "outputId": "ae40f447-418f-41ef-b517-41c11dca8f84"
      },
      "outputs": [
        {
          "data": {
            "text/latex": [
              "$\\displaystyle f{\\left(x,y \\right)}$"
            ],
            "text/plain": [
              "f(x, y)"
            ]
          },
          "execution_count": 21,
          "metadata": {},
          "output_type": "execute_result"
        }
      ],
      "source": [
        "f"
      ]
    },
    {
      "cell_type": "code",
      "execution_count": 22,
      "metadata": {
        "id": "RjJWdckVndhh"
      },
      "outputs": [],
      "source": [
        "g1 = 2*x*2 - y*2"
      ]
    },
    {
      "cell_type": "code",
      "execution_count": 23,
      "metadata": {
        "id": "iibAY4XHnkXT"
      },
      "outputs": [],
      "source": [
        "g2 = 2*x**2+y*2"
      ]
    },
    {
      "cell_type": "code",
      "execution_count": 24,
      "metadata": {
        "colab": {
          "base_uri": "https://localhost:8080/",
          "height": 108
        },
        "id": "f28xJ92Pnl1t",
        "outputId": "ccd16dfa-8a1a-435d-d2bd-0da2c752692a"
      },
      "outputs": [
        {
          "data": {
            "text/latex": [
              "$\\displaystyle \\left[\\begin{matrix}0 & 0 & 4 & -2\\\\0 & 0 & 4 x & 2\\\\4 & 4 x & \\frac{\\partial^{2}}{\\partial x^{2}} f{\\left(x,y \\right)} & \\frac{\\partial^{2}}{\\partial y\\partial x} f{\\left(x,y \\right)}\\\\-2 & 2 & \\frac{\\partial^{2}}{\\partial y\\partial x} f{\\left(x,y \\right)} & \\frac{\\partial^{2}}{\\partial y^{2}} f{\\left(x,y \\right)}\\end{matrix}\\right]$"
            ],
            "text/plain": [
              "Matrix([\n",
              "[ 0,   0,                           4,                          -2],\n",
              "[ 0,   0,                         4*x,                           2],\n",
              "[ 4, 4*x, Derivative(f(x, y), (x, 2)),   Derivative(f(x, y), x, y)],\n",
              "[-2,   2,   Derivative(f(x, y), x, y), Derivative(f(x, y), (y, 2))]])"
            ]
          },
          "execution_count": 24,
          "metadata": {},
          "output_type": "execute_result"
        }
      ],
      "source": [
        "hessian(f, (x,y), [g1, g2])"
      ]
    },
    {
      "cell_type": "code",
      "execution_count": 25,
      "metadata": {
        "id": "ECkezWeakAdU"
      },
      "outputs": [],
      "source": [
        "syms = [x,y]"
      ]
    },
    {
      "cell_type": "code",
      "execution_count": 26,
      "metadata": {
        "colab": {
          "base_uri": "https://localhost:8080/"
        },
        "id": "_zspJrfGmKM9",
        "outputId": "1576cf75-c9e6-4947-e3eb-2a8042c64f52"
      },
      "outputs": [
        {
          "data": {
            "text/plain": [
              "[x, y]"
            ]
          },
          "execution_count": 26,
          "metadata": {},
          "output_type": "execute_result"
        }
      ],
      "source": [
        "syms"
      ]
    },
    {
      "cell_type": "code",
      "execution_count": 27,
      "metadata": {
        "id": "1P5vyKD7j7MZ"
      },
      "outputs": [],
      "source": [
        "f = sy.Matrix([[2*x*y-2]])"
      ]
    },
    {
      "cell_type": "code",
      "execution_count": 28,
      "metadata": {
        "colab": {
          "base_uri": "https://localhost:8080/",
          "height": 38
        },
        "id": "9WmkJOfzlhyg",
        "outputId": "d60e6cf9-d83f-4eb5-986e-b0c6f6a1c2a9"
      },
      "outputs": [
        {
          "data": {
            "text/latex": [
              "$\\displaystyle \\left[\\begin{matrix}2 x y - 2\\end{matrix}\\right]$"
            ],
            "text/plain": [
              "Matrix([[2*x*y - 2]])"
            ]
          },
          "execution_count": 28,
          "metadata": {},
          "output_type": "execute_result"
        }
      ],
      "source": [
        "f"
      ]
    },
    {
      "cell_type": "code",
      "execution_count": 29,
      "metadata": {
        "colab": {
          "base_uri": "https://localhost:8080/",
          "height": 58
        },
        "id": "3PgnsEl2j8OU",
        "outputId": "54d85494-a303-44cb-e393-144d5b85eb6e"
      },
      "outputs": [
        {
          "data": {
            "text/latex": [
              "$\\displaystyle \\left[\\begin{matrix}0 & 2\\\\2 & 0\\end{matrix}\\right]$"
            ],
            "text/plain": [
              "Matrix([\n",
              "[0, 2],\n",
              "[2, 0]])"
            ]
          },
          "execution_count": 29,
          "metadata": {},
          "output_type": "execute_result"
        }
      ],
      "source": [
        "hessian(f, syms)"
      ]
    },
    {
      "cell_type": "code",
      "execution_count": 30,
      "metadata": {
        "id": "8Y8HJO53R1-P"
      },
      "outputs": [],
      "source": [
        "import numpy as np\n",
        "import pandas as pd"
      ]
    },
    {
      "cell_type": "code",
      "execution_count": null,
      "metadata": {
        "colab": {
          "base_uri": "https://localhost:8080/"
        },
        "id": "9wkUWyIcSCYB",
        "outputId": "f8445824-9cef-44ff-cd95-79319000d457"
      },
      "outputs": [
        {
          "data": {
            "text/plain": [
              "(631, 127)"
            ]
          },
          "execution_count": 17,
          "metadata": {},
          "output_type": "execute_result"
        }
      ],
      "source": [
        "df.shape"
      ]
    },
    {
      "cell_type": "code",
      "execution_count": 58,
      "metadata": {},
      "outputs": [
        {
          "data": {
            "text/latex": [
              "$\\displaystyle \\left[\\begin{matrix}3 x^{2} + 4 y + \\sin{\\left(z \\right)} & 4 x + z^{8} & x \\cos{\\left(z \\right)} + 8 y z^{7}\\end{matrix}\\right]$"
            ],
            "text/plain": [
              "[3*x**2 + 4*y + sin(z), 4*x + z**8, x*cos(z) + 8*y*z**7]"
            ]
          },
          "execution_count": 58,
          "metadata": {},
          "output_type": "execute_result"
        }
      ],
      "source": [
        "import sympy as sy\n",
        "from sympy.tensor.array import derive_by_array\n",
        "x,y,z = sy.symbols('x y z')\n",
        "f = 4*x*y + x*sy.sin(z) + x**3 + z**8*y\n",
        "derive_by_array(f,(x,y,z))"
      ]
    },
    {
      "cell_type": "markdown",
      "metadata": {
        "id": "_0kOM-BzSwio"
      },
      "source": [
        "Chaos Theory\n",
        "\n",
        "\n",
        "\n",
        "\n",
        "sesuatu teori yang mempelajari unpredictable behaviour dari suatu sistem."
      ]
    },
    {
      "cell_type": "code",
      "execution_count": null,
      "metadata": {
        "id": "BFAaNkROVs9W"
      },
      "outputs": [],
      "source": [
        "import sympy as sy"
      ]
    },
    {
      "cell_type": "code",
      "execution_count": null,
      "metadata": {
        "id": "vG-2UF7hVwDF"
      },
      "outputs": [],
      "source": [
        "x = sy.Symbol('x', real = True)"
      ]
    },
    {
      "cell_type": "code",
      "execution_count": null,
      "metadata": {
        "colab": {
          "base_uri": "https://localhost:8080/",
          "height": 38
        },
        "id": "wW2EEaRpVz6J",
        "outputId": "9d324389-01e0-4533-e9c3-5917efddea42"
      },
      "outputs": [
        {
          "data": {
            "text/latex": [
              "$\\displaystyle 2 x^{2} + 4 x - 1$"
            ],
            "text/plain": [
              "2*x**2 + 4*x - 1"
            ]
          },
          "execution_count": 22,
          "metadata": {},
          "output_type": "execute_result"
        }
      ],
      "source": [
        "f = 2*x**2+4*x-1\n",
        "f"
      ]
    },
    {
      "cell_type": "code",
      "execution_count": null,
      "metadata": {
        "colab": {
          "base_uri": "https://localhost:8080/",
          "height": 54
        },
        "id": "7T09cY-dV4UD",
        "outputId": "d234e6d9-a86b-4ad2-ec30-5be8c603ff4a"
      },
      "outputs": [
        {
          "data": {
            "text/latex": [
              "$\\displaystyle \\frac{2 x^{3}}{3} + 2 x^{2} - x$"
            ],
            "text/plain": [
              "2*x**3/3 + 2*x**2 - x"
            ]
          },
          "execution_count": 23,
          "metadata": {},
          "output_type": "execute_result"
        }
      ],
      "source": [
        "f1 = sy.integrate(f)\n",
        "f1"
      ]
    },
    {
      "cell_type": "markdown",
      "metadata": {
        "id": "40TJYGJuVtSd"
      },
      "source": [
        "Metode 1\n",
        "Integral pake fungsi. Fungsinya harus di define"
      ]
    },
    {
      "cell_type": "code",
      "execution_count": 90,
      "metadata": {
        "id": "rieDZc2pWH62"
      },
      "outputs": [],
      "source": [
        "from scipy import integrate"
      ]
    },
    {
      "cell_type": "code",
      "execution_count": 91,
      "metadata": {
        "id": "l7rcTW0GWMLt"
      },
      "outputs": [],
      "source": [
        "def f(x):\n",
        "  return 2*x**2 + 4*x - 1"
      ]
    },
    {
      "cell_type": "code",
      "execution_count": 95,
      "metadata": {},
      "outputs": [
        {
          "data": {
            "text/plain": [
              "119.33333333333333"
            ]
          },
          "execution_count": 95,
          "metadata": {},
          "output_type": "execute_result"
        }
      ],
      "source": [
        "def fint(x):\n",
        "    return 2/3*x**3+28*x**2+x \n",
        "fint(2)"
      ]
    },
    {
      "cell_type": "code",
      "execution_count": 92,
      "metadata": {
        "id": "KZ_vnDdOWQdB"
      },
      "outputs": [],
      "source": [
        "A = integrate.quad(f,2,5)"
      ]
    },
    {
      "cell_type": "code",
      "execution_count": 93,
      "metadata": {
        "colab": {
          "base_uri": "https://localhost:8080/"
        },
        "id": "aY_7yvszWhQi",
        "outputId": "6c1cdd17-6d92-4086-eeea-7baf8235b22a"
      },
      "outputs": [
        {
          "name": "stdout",
          "output_type": "stream",
          "text": [
            "(117.0, 1.2989609388114332e-12)\n"
          ]
        }
      ],
      "source": [
        "print(A)"
      ]
    },
    {
      "cell_type": "markdown",
      "metadata": {
        "id": "3FI5cTSzXJWr"
      },
      "source": [
        "Metode 2 integrall pake data points"
      ]
    },
    {
      "cell_type": "markdown",
      "metadata": {
        "id": "yZpAYbbJXSAP"
      },
      "source": [
        "Quad --> definitive. Ada batas bawah dan atas\n",
        "Trapezoid --> metode integral pake trapesium"
      ]
    },
    {
      "cell_type": "code",
      "execution_count": null,
      "metadata": {
        "id": "WRvRX2OQXH1f"
      },
      "outputs": [],
      "source": []
    },
    {
      "cell_type": "code",
      "execution_count": null,
      "metadata": {
        "id": "Mp0fZfV38dnl"
      },
      "outputs": [],
      "source": [
        "import sympy as sy"
      ]
    },
    {
      "cell_type": "code",
      "execution_count": null,
      "metadata": {
        "id": "-PCYCA5x-vI_"
      },
      "outputs": [],
      "source": [
        "3*X + 4*y = 5  "
      ]
    },
    {
      "cell_type": "code",
      "execution_count": null,
      "metadata": {
        "id": "V0FWQe518hp3"
      },
      "outputs": [],
      "source": [
        "x, y = sy.symbols(' x y')\n",
        "f = 3*x + 4*y - 5"
      ]
    },
    {
      "cell_type": "code",
      "execution_count": null,
      "metadata": {
        "id": "q3Zl0fuJ-Ddc"
      },
      "outputs": [],
      "source": [
        "from sympy.tensor.array import derive_by_array"
      ]
    },
    {
      "cell_type": "code",
      "execution_count": null,
      "metadata": {
        "colab": {
          "base_uri": "https://localhost:8080/",
          "height": 38
        },
        "id": "56ZsM8Ch-Hso",
        "outputId": "0fb2fd22-2750-4885-8661-7fcf3b122675"
      },
      "outputs": [
        {
          "data": {
            "text/latex": [
              "$\\displaystyle \\left[\\begin{matrix}3 & 4\\end{matrix}\\right]$"
            ],
            "text/plain": [
              "[3, 4]"
            ]
          },
          "execution_count": 145,
          "metadata": {},
          "output_type": "execute_result"
        }
      ],
      "source": [
        "derive_by_array(f,(x,y))"
      ]
    },
    {
      "cell_type": "code",
      "execution_count": null,
      "metadata": {
        "colab": {
          "base_uri": "https://localhost:8080/"
        },
        "id": "fex3SZfIHS9K",
        "outputId": "188d9130-37a2-41aa-a322-cea3d5fbbbd9"
      },
      "outputs": [
        {
          "name": "stdout",
          "output_type": "stream",
          "text": [
            "Looking in indexes: https://pypi.org/simple, https://us-python.pkg.dev/colab-wheels/public/simple/\n",
            "Collecting numdifftools\n",
            "  Downloading numdifftools-0.9.40-py2.py3-none-any.whl (99 kB)\n",
            "\u001b[K     |████████████████████████████████| 99 kB 4.2 MB/s \n",
            "\u001b[?25hRequirement already satisfied: statsmodels>=0.6 in /usr/local/lib/python3.7/dist-packages (from numdifftools) (0.10.2)\n",
            "Requirement already satisfied: scipy>=0.8 in /usr/local/lib/python3.7/dist-packages (from numdifftools) (1.4.1)\n",
            "Requirement already satisfied: numpy>=1.9 in /usr/local/lib/python3.7/dist-packages (from numdifftools) (1.21.6)\n",
            "Collecting algopy>=0.4\n",
            "  Downloading algopy-0.5.7.zip (189 kB)\n",
            "\u001b[K     |████████████████████████████████| 189 kB 36.3 MB/s \n",
            "\u001b[?25hRequirement already satisfied: patsy>=0.4.0 in /usr/local/lib/python3.7/dist-packages (from statsmodels>=0.6->numdifftools) (0.5.2)\n",
            "Requirement already satisfied: pandas>=0.19 in /usr/local/lib/python3.7/dist-packages (from statsmodels>=0.6->numdifftools) (1.3.5)\n",
            "Requirement already satisfied: pytz>=2017.3 in /usr/local/lib/python3.7/dist-packages (from pandas>=0.19->statsmodels>=0.6->numdifftools) (2022.1)\n",
            "Requirement already satisfied: python-dateutil>=2.7.3 in /usr/local/lib/python3.7/dist-packages (from pandas>=0.19->statsmodels>=0.6->numdifftools) (2.8.2)\n",
            "Requirement already satisfied: six in /usr/local/lib/python3.7/dist-packages (from patsy>=0.4.0->statsmodels>=0.6->numdifftools) (1.15.0)\n",
            "Building wheels for collected packages: algopy\n",
            "  Building wheel for algopy (setup.py) ... \u001b[?25l\u001b[?25hdone\n",
            "  Created wheel for algopy: filename=algopy-0.5.7-py3-none-any.whl size=107608 sha256=62197d0a48dd2cea69401857ff5c9886b34347b0d86c371408e747b4a3c1d75c\n",
            "  Stored in directory: /root/.cache/pip/wheels/a8/fd/06/21dc6aba9f680fdbde386c06b1a8a1cf3d9a5f6bd96e31dcd4\n",
            "Successfully built algopy\n",
            "Installing collected packages: algopy, numdifftools\n",
            "Successfully installed algopy-0.5.7 numdifftools-0.9.40\n"
          ]
        }
      ],
      "source": [
        "pip install numdifftools"
      ]
    },
    {
      "cell_type": "code",
      "execution_count": null,
      "metadata": {
        "colab": {
          "base_uri": "https://localhost:8080/"
        },
        "id": "q_O7f-JwHD7l",
        "outputId": "762fb01e-588c-47d5-db20-c4f2689cccdb"
      },
      "outputs": [
        {
          "name": "stdout",
          "output_type": "stream",
          "text": [
            "Gradient of (-3^x + 5)/4  -0.7500000000000002\n"
          ]
        }
      ],
      "source": [
        "import numdifftools as nd\n",
        "  \n",
        "  \n",
        "g = lambda x:((-3*x)+ 5)/4\n",
        "grad1 = nd.Gradient(g)([1])\n",
        "print(\"Gradient of (-3^x + 5)/4 \", grad1)"
      ]
    }
  ],
  "metadata": {
    "colab": {
      "collapsed_sections": [],
      "name": "Multivariate Calc",
      "provenance": []
    },
    "interpreter": {
      "hash": "ad2bdc8ecc057115af97d19610ffacc2b4e99fae6737bb82f5d7fb13d2f2c186"
    },
    "kernelspec": {
      "display_name": "Python 3.9.12 ('base')",
      "language": "python",
      "name": "python3"
    },
    "language_info": {
      "codemirror_mode": {
        "name": "ipython",
        "version": 3
      },
      "file_extension": ".py",
      "mimetype": "text/x-python",
      "name": "python",
      "nbconvert_exporter": "python",
      "pygments_lexer": "ipython3",
      "version": "3.9.12"
    }
  },
  "nbformat": 4,
  "nbformat_minor": 0
}
