{
  "cells": [
    {
      "cell_type": "markdown",
      "metadata": {
        "id": "q9lOjL1Mso9u"
      },
      "source": [
        "# Soal latihan untuk persiapan Live Code 1\n",
        "\n",
        "Kisi-kisi apa saja yang akan keluar:\n",
        "- Load data pandas menggunakan pd.read_csv, pd.read_excel. Sebagai latihan, bisa gunakan data-data di repo [ini](https://github.com/fahmimnalfrzki/Dataset).\n",
        "- Pembuatan dan penggunaan fungsi \n",
        "- Pandas Query/Filtering\n",
        "- For loop dan conditional if yang diterapkan pada pandas\n",
        "- Akses row dataframe pandas menggunakan loc/iloc\n",
        "- Akses kolom dataframe pandas\n",
        "- Penggunaan method di dataframe/series pandas terutama method agregat (rata-rata, min, max, count, std, dll)"
      ]
    },
    {
      "cell_type": "markdown",
      "metadata": {
        "id": "Z0Z8LCVRXMkg"
      },
      "source": [
        "1. Buatlah dua fungsi untuk menghitung luas persegi dan jajargenjang"
      ]
    },
    {
      "cell_type": "code",
      "execution_count": 50,
      "metadata": {
        "id": "RtNJQ0bZWzu6"
      },
      "outputs": [],
      "source": [
        "def luas_persegi(s):\n",
        "    return s**2\n",
        "def luas_jajar_genjang(luas_alas,tinggi):\n",
        "    return luas_alas*tinggi\n",
        "\n",
        "persegi={'sisi':2}\n",
        "persegi1=luas_persegi(persegi['sisi'])\n",
        "jajargenjang1={'alas':10,'tinggi':3}\n",
        "luas_j_g=luas_jajar_genjang(jajargenjang1['alas'], jajargenjang1['tinggi'])"
      ]
    },
    {
      "cell_type": "markdown",
      "metadata": {
        "id": "qSoPnMpeo6Vk"
      },
      "source": [
        "2. Dengan data berikut, buatlah kolom baru yang bernama `luas` yang menyimpan hasil perhitungan luas persegi dan jajargenjang, dimana untuk kolom sisi1 yang nilainya lebih dari 10 akan dihitung luas persegi, dan kurang dari 10 dihitung jajargenjang. **(Hint: Gunakan for loop dan if statement untuk mengerjakan nomor 2, kamu bisa menggunakan list untuk menyimpan perhitungan sementara, setelahnya dapat dimasukkan ke kolom luas)**."
      ]
    },
    {
      "cell_type": "code",
      "execution_count": 35,
      "metadata": {
        "colab": {
          "base_uri": "https://localhost:8080/",
          "height": 421
        },
        "id": "BiwVwhsnpftB",
        "outputId": "d9d93dd2-ed1a-4e9e-aaee-fa573c729177"
      },
      "outputs": [],
      "source": [
        "import pandas as pd\n",
        "\n",
        "data = pd.DataFrame({'sisi1':[5,8,2,5,7,15,6,20,56,1,42,7],'sisi2':[15,82,12,5,6,15,6,4,27,2,4,9]})\n"
      ]
    },
    {
      "cell_type": "code",
      "execution_count": 52,
      "metadata": {},
      "outputs": [],
      "source": [
        "data_cp=data.copy()\n",
        "hasil=[]\n",
        "for i in range(len(data_cp)):\n",
        "    hasil.append(0)\n",
        "for i in range(len(data_cp)):\n",
        "    if data_cp.iloc[i,0]>10:\n",
        "        hasil[i]=luas_persegi(data_cp.iloc[i,0])\n",
        "    elif data_cp.iloc[i,0]<10:\n",
        "        hasil[i]=luas_jajar_genjang(data_cp.iloc[i,0],data_cp.iloc[i,1])"
      ]
    },
    {
      "cell_type": "code",
      "execution_count": 53,
      "metadata": {},
      "outputs": [],
      "source": [
        "data_cp['luas']=hasil"
      ]
    },
    {
      "cell_type": "code",
      "execution_count": 54,
      "metadata": {},
      "outputs": [
        {
          "data": {
            "text/html": [
              "<div>\n",
              "<style scoped>\n",
              "    .dataframe tbody tr th:only-of-type {\n",
              "        vertical-align: middle;\n",
              "    }\n",
              "\n",
              "    .dataframe tbody tr th {\n",
              "        vertical-align: top;\n",
              "    }\n",
              "\n",
              "    .dataframe thead th {\n",
              "        text-align: right;\n",
              "    }\n",
              "</style>\n",
              "<table border=\"1\" class=\"dataframe\">\n",
              "  <thead>\n",
              "    <tr style=\"text-align: right;\">\n",
              "      <th></th>\n",
              "      <th>sisi1</th>\n",
              "      <th>sisi2</th>\n",
              "      <th>luas</th>\n",
              "    </tr>\n",
              "  </thead>\n",
              "  <tbody>\n",
              "    <tr>\n",
              "      <th>0</th>\n",
              "      <td>5</td>\n",
              "      <td>15</td>\n",
              "      <td>75</td>\n",
              "    </tr>\n",
              "    <tr>\n",
              "      <th>1</th>\n",
              "      <td>8</td>\n",
              "      <td>82</td>\n",
              "      <td>656</td>\n",
              "    </tr>\n",
              "    <tr>\n",
              "      <th>2</th>\n",
              "      <td>2</td>\n",
              "      <td>12</td>\n",
              "      <td>24</td>\n",
              "    </tr>\n",
              "    <tr>\n",
              "      <th>3</th>\n",
              "      <td>5</td>\n",
              "      <td>5</td>\n",
              "      <td>25</td>\n",
              "    </tr>\n",
              "    <tr>\n",
              "      <th>4</th>\n",
              "      <td>7</td>\n",
              "      <td>6</td>\n",
              "      <td>42</td>\n",
              "    </tr>\n",
              "    <tr>\n",
              "      <th>5</th>\n",
              "      <td>15</td>\n",
              "      <td>15</td>\n",
              "      <td>225</td>\n",
              "    </tr>\n",
              "    <tr>\n",
              "      <th>6</th>\n",
              "      <td>6</td>\n",
              "      <td>6</td>\n",
              "      <td>36</td>\n",
              "    </tr>\n",
              "    <tr>\n",
              "      <th>7</th>\n",
              "      <td>20</td>\n",
              "      <td>4</td>\n",
              "      <td>400</td>\n",
              "    </tr>\n",
              "    <tr>\n",
              "      <th>8</th>\n",
              "      <td>56</td>\n",
              "      <td>27</td>\n",
              "      <td>3136</td>\n",
              "    </tr>\n",
              "    <tr>\n",
              "      <th>9</th>\n",
              "      <td>1</td>\n",
              "      <td>2</td>\n",
              "      <td>2</td>\n",
              "    </tr>\n",
              "    <tr>\n",
              "      <th>10</th>\n",
              "      <td>42</td>\n",
              "      <td>4</td>\n",
              "      <td>1764</td>\n",
              "    </tr>\n",
              "    <tr>\n",
              "      <th>11</th>\n",
              "      <td>7</td>\n",
              "      <td>9</td>\n",
              "      <td>63</td>\n",
              "    </tr>\n",
              "  </tbody>\n",
              "</table>\n",
              "</div>"
            ],
            "text/plain": [
              "    sisi1  sisi2  luas\n",
              "0       5     15    75\n",
              "1       8     82   656\n",
              "2       2     12    24\n",
              "3       5      5    25\n",
              "4       7      6    42\n",
              "5      15     15   225\n",
              "6       6      6    36\n",
              "7      20      4   400\n",
              "8      56     27  3136\n",
              "9       1      2     2\n",
              "10     42      4  1764\n",
              "11      7      9    63"
            ]
          },
          "execution_count": 54,
          "metadata": {},
          "output_type": "execute_result"
        }
      ],
      "source": [
        "data_cp"
      ]
    },
    {
      "cell_type": "markdown",
      "metadata": {
        "id": "TyDEajOjqY6S"
      },
      "source": [
        "3. Hitung standar deviasi (.std) kolom luas dimana sisi1 lebih dari 10 dan atau sisi 2 ganjil"
      ]
    },
    {
      "cell_type": "code",
      "execution_count": 55,
      "metadata": {
        "id": "Q9bt_2D5qXNN"
      },
      "outputs": [
        {
          "data": {
            "text/plain": [
              "1193.3936004999716"
            ]
          },
          "execution_count": 55,
          "metadata": {},
          "output_type": "execute_result"
        }
      ],
      "source": [
        "\n",
        "data_cp[\n",
        "    (data_cp['sisi1']>10)|\n",
        "    (data_cp['sisi2']%2==1)\n",
        "    ][\n",
        "        'luas'].std()"
      ]
    }
  ],
  "metadata": {
    "colab": {
      "name": "Latihan Live Code 1 .ipynb",
      "provenance": []
    },
    "interpreter": {
      "hash": "ad2bdc8ecc057115af97d19610ffacc2b4e99fae6737bb82f5d7fb13d2f2c186"
    },
    "kernelspec": {
      "display_name": "Python 3.9.12 ('base')",
      "language": "python",
      "name": "python3"
    },
    "language_info": {
      "codemirror_mode": {
        "name": "ipython",
        "version": 3
      },
      "file_extension": ".py",
      "mimetype": "text/x-python",
      "name": "python",
      "nbconvert_exporter": "python",
      "pygments_lexer": "ipython3",
      "version": "3.9.12"
    }
  },
  "nbformat": 4,
  "nbformat_minor": 0
}
