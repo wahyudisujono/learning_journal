{
  "cells": [
    {
      "cell_type": "code",
      "execution_count": 4,
      "metadata": {
        "id": "rnsotjtIoOpv"
      },
      "outputs": [],
      "source": [
        "import numpy as np\n",
        "import matplotlib.pyplot as plt"
      ]
    },
    {
      "cell_type": "markdown",
      "metadata": {},
      "source": [
        "## Fungsi buat plot"
      ]
    },
    {
      "cell_type": "code",
      "execution_count": 5,
      "metadata": {
        "id": "aRYYUeFoyvQE"
      },
      "outputs": [],
      "source": [
        "def plot_vector2d(vector2d, origin=[0, 0], **options):\n",
        "    return plt.arrow(origin[0], origin[1], vector2d[0], vector2d[1],\n",
        "              head_width=0.2, head_length=0.3, length_includes_head=True,\n",
        "              **options)"
      ]
    },
    {
      "cell_type": "markdown",
      "metadata": {},
      "source": [
        "Mariks mirror base y"
      ]
    },
    {
      "cell_type": "code",
      "execution_count": 6,
      "metadata": {
        "id": "W-T7TA0ozSYU"
      },
      "outputs": [],
      "source": [
        "T = np.array([[-1, 0], [0, 1]])"
      ]
    },
    {
      "cell_type": "markdown",
      "metadata": {},
      "source": [
        "Code memirror vector arr"
      ]
    },
    {
      "cell_type": "code",
      "execution_count": 7,
      "metadata": {
        "colab": {
          "base_uri": "https://localhost:8080/",
          "height": 269
        },
        "id": "dHVWswUfyxWy",
        "outputId": "20ced1d1-197e-4382-eb67-68b9fd621891"
      },
      "outputs": [
        {
          "data": {
            "image/png": "[encoded data removed]",
            "text/plain": [
              "<Figure size 432x288 with 1 Axes>"
            ]
          },
          "metadata": {
            "needs_background": "light"
          },
          "output_type": "display_data"
        }
      ],
      "source": [
        "arr = np.array([4,2])\n",
        "\n",
        "plot_vector2d(arr, color='r')\n",
        "plot_vector2d(T@arr, color ='g')\n",
        "\n",
        "plt.plot([0,0], [-6,6], color='blue')\n",
        "plt.axis([-6, 6, -6, 6])\n",
        "plt.axhline(0,0)\n",
        "plt.grid()"
      ]
    },
    {
      "cell_type": "code",
      "execution_count": 45,
      "metadata": {
        "colab": {
          "base_uri": "https://localhost:8080/"
        },
        "id": "Yvps8oz5yzxS",
        "outputId": "7b247948-d53d-416a-f65d-c2e3eb15fe80"
      },
      "outputs": [
        {
          "data": {
            "text/plain": [
              "array([[1, 2],\n",
              "       [2, 4]])"
            ]
          },
          "execution_count": 45,
          "metadata": {},
          "output_type": "execute_result"
        }
      ],
      "source": [
        "A = np.array([[1, 2],\n",
        "              [2, 4]])\n",
        "A"
      ]
    },
    {
      "cell_type": "code",
      "execution_count": 46,
      "metadata": {
        "id": "7rt1juh3-6wa"
      },
      "outputs": [],
      "source": [
        "eig_val, eig_vec = np.linalg.eig(A)"
      ]
    },
    {
      "cell_type": "code",
      "execution_count": 34,
      "metadata": {
        "colab": {
          "base_uri": "https://localhost:8080/"
        },
        "id": "iltXAjvm_Csy",
        "outputId": "fefcd146-48b3-4c3b-9d15-b401132a11e6"
      },
      "outputs": [
        {
          "data": {
            "text/plain": [
              "array([ 1.64110106, 10.35889894])"
            ]
          },
          "execution_count": 34,
          "metadata": {},
          "output_type": "execute_result"
        }
      ],
      "source": [
        "eig_val"
      ]
    },
    {
      "cell_type": "code",
      "execution_count": 35,
      "metadata": {
        "colab": {
          "base_uri": "https://localhost:8080/"
        },
        "id": "Nd4DM3C7_KRS",
        "outputId": "1ac4deb2-a5ce-4bf2-b368-f7313c89aa9b"
      },
      "outputs": [
        {
          "data": {
            "text/plain": [
              "array([[-0.95227185, -0.20898175],\n",
              "       [-0.30525124, -0.97791954]])"
            ]
          },
          "execution_count": 35,
          "metadata": {},
          "output_type": "execute_result"
        }
      ],
      "source": [
        "eig_vec"
      ]
    },
    {
      "cell_type": "code",
      "execution_count": 39,
      "metadata": {},
      "outputs": [
        {
          "data": {
            "text/plain": [
              "array([-1.37023535, -2.7404707 ])"
            ]
          },
          "execution_count": 39,
          "metadata": {},
          "output_type": "execute_result"
        }
      ],
      "source": [
        "A@eig_vec[0]"
      ]
    },
    {
      "cell_type": "code",
      "execution_count": 55,
      "metadata": {},
      "outputs": [
        {
          "data": {
            "text/plain": [
              "<matplotlib.patches.FancyArrow at 0x2966c343f70>"
            ]
          },
          "execution_count": 55,
          "metadata": {},
          "output_type": "execute_result"
        },
        {
          "data": {
            "image/png": "[encoded data removed]",
            "text/plain": [
              "<Figure size 432x288 with 1 Axes>"
            ]
          },
          "metadata": {
            "needs_background": "light"
          },
          "output_type": "display_data"
        }
      ],
      "source": [
        "plot_vector2d(eig_vec[1], color='r')\n",
        "plot_vector2d(eig_val[1]*eig_vec[1], color ='g')\n"
      ]
    },
    {
      "cell_type": "code",
      "execution_count": 12,
      "metadata": {
        "colab": {
          "base_uri": "https://localhost:8080/"
        },
        "id": "7uyqeuIf_Ke5",
        "outputId": "19dcef4d-57a2-438f-a687-acdd012edd77"
      },
      "outputs": [
        {
          "data": {
            "text/plain": [
              "array([-0.4472136 , -0.89442719])"
            ]
          },
          "execution_count": 12,
          "metadata": {},
          "output_type": "execute_result"
        }
      ],
      "source": [
        "v = np.array([-1, -2]) / np.sqrt(5)\n",
        "v"
      ]
    },
    {
      "cell_type": "code",
      "execution_count": 13,
      "metadata": {
        "colab": {
          "base_uri": "https://localhost:8080/"
        },
        "id": "cUh49ajHAPkC",
        "outputId": "dcb86e45-226f-4be3-94b4-9d1da7d5963f"
      },
      "outputs": [
        {
          "data": {
            "text/plain": [
              "array([-0.4472136 , -0.89442719])"
            ]
          },
          "execution_count": 13,
          "metadata": {},
          "output_type": "execute_result"
        }
      ],
      "source": [
        "# A x = lambda x\n",
        "hasil = A @ v\n",
        "hasil / 5"
      ]
    },
    {
      "cell_type": "code",
      "execution_count": 14,
      "metadata": {
        "colab": {
          "base_uri": "https://localhost:8080/"
        },
        "id": "iKSNohZDAYrF",
        "outputId": "d549e5a1-182e-4565-d151-2bf3304ddef9"
      },
      "outputs": [
        {
          "data": {
            "text/plain": [
              "array([[0., 0.],\n",
              "       [0., 5.]])"
            ]
          },
          "execution_count": 14,
          "metadata": {},
          "output_type": "execute_result"
        }
      ],
      "source": [
        "np.diag(eig_val)"
      ]
    },
    {
      "cell_type": "code",
      "execution_count": 15,
      "metadata": {
        "colab": {
          "base_uri": "https://localhost:8080/"
        },
        "id": "Jz7YvVhaBLsc",
        "outputId": "6b71d5ca-ecd7-47b2-9606-2af5add3d156"
      },
      "outputs": [
        {
          "data": {
            "text/plain": [
              "array([[-0.89442719,  0.4472136 ],\n",
              "       [-0.4472136 , -0.89442719]])"
            ]
          },
          "execution_count": 15,
          "metadata": {},
          "output_type": "execute_result"
        }
      ],
      "source": [
        "np.linalg.inv(eig_vec)"
      ]
    },
    {
      "cell_type": "code",
      "execution_count": 16,
      "metadata": {
        "colab": {
          "base_uri": "https://localhost:8080/"
        },
        "id": "kCgR4Xc9BNeb",
        "outputId": "7337706a-71f9-4d43-d3a5-fc926a216c99"
      },
      "outputs": [
        {
          "data": {
            "text/plain": [
              "array([[1., 2.],\n",
              "       [2., 4.]])"
            ]
          },
          "execution_count": 16,
          "metadata": {},
          "output_type": "execute_result"
        }
      ],
      "source": [
        "reconstruct = eig_vec @ np.diag(eig_val) @ np.linalg.inv(eig_vec)\n",
        "reconstruct"
      ]
    },
    {
      "cell_type": "code",
      "execution_count": 17,
      "metadata": {
        "colab": {
          "base_uri": "https://localhost:8080/"
        },
        "id": "QV_MQ6KhBizp",
        "outputId": "7a4f781e-0f7e-4783-b4be-f6abc8b0399f"
      },
      "outputs": [
        {
          "data": {
            "text/plain": [
              "array([[1, 2],\n",
              "       [2, 4]])"
            ]
          },
          "execution_count": 17,
          "metadata": {},
          "output_type": "execute_result"
        }
      ],
      "source": [
        "A"
      ]
    },
    {
      "cell_type": "markdown",
      "metadata": {
        "id": "pALNI0t6Dkac"
      },
      "source": [
        "**Implementasi - Social Media Network**"
      ]
    },
    {
      "cell_type": "code",
      "execution_count": 18,
      "metadata": {
        "colab": {
          "base_uri": "https://localhost:8080/"
        },
        "id": "qP27LdlSBkCC",
        "outputId": "0d0b1e51-d1aa-4eb6-f527-a23cc4c1f706"
      },
      "outputs": [
        {
          "data": {
            "text/plain": [
              "array([[0.  , 0.25, 0.  , 0.5 , 0.  , 0.  ],\n",
              "       [0.  , 0.  , 0.  , 0.  , 0.  , 0.  ],\n",
              "       [0.5 , 0.25, 0.  , 0.  , 0.  , 0.5 ],\n",
              "       [0.5 , 0.25, 0.  , 0.  , 0.  , 0.5 ],\n",
              "       [0.  , 0.25, 0.  , 0.5 , 0.  , 0.  ],\n",
              "       [0.  , 0.  , 0.  , 0.  , 0.  , 0.  ]])"
            ]
          },
          "execution_count": 18,
          "metadata": {},
          "output_type": "execute_result"
        }
      ],
      "source": [
        "N = np.array([[0, 1/4, 0, 1/2, 0, 0],\n",
        "              [0, 0, 0, 0, 0, 0],\n",
        "              [1/2, 1/4, 0, 0, 0, 1/2],\n",
        "              [1/2, 1/4, 0, 0, 0, 1/2],\n",
        "              [0, 1/4, 0, 1/2, 0, 0],\n",
        "              [0, 0, 0, 0, 0, 0]\n",
        "              ])\n",
        "\n",
        "N"
      ]
    },
    {
      "cell_type": "code",
      "execution_count": 19,
      "metadata": {
        "id": "-KjYru4bF3mf"
      },
      "outputs": [],
      "source": [
        "eig_val, eig_vec = np.linalg.eig(N)"
      ]
    },
    {
      "cell_type": "code",
      "execution_count": 20,
      "metadata": {
        "colab": {
          "base_uri": "https://localhost:8080/"
        },
        "id": "zOhYb9HNGECk",
        "outputId": "78d3ec00-f4bb-4744-c2d9-b6131b96c44e"
      },
      "outputs": [
        {
          "data": {
            "text/plain": [
              "array([ 0. ,  0. ,  0.5, -0.5,  0. ,  0. ])"
            ]
          },
          "execution_count": 20,
          "metadata": {},
          "output_type": "execute_result"
        }
      ],
      "source": [
        "eig_val"
      ]
    },
    {
      "cell_type": "code",
      "execution_count": 21,
      "metadata": {
        "colab": {
          "base_uri": "https://localhost:8080/"
        },
        "id": "pz9h4yIlGFsu",
        "outputId": "a429de7e-8e2a-40c4-be46-f24726417d69"
      },
      "outputs": [
        {
          "data": {
            "text/plain": [
              "array([[ 0.00000000e+000,  0.00000000e+000,  5.00000000e-001,\n",
              "        -5.00000000e-001, -2.55878898e-276, -2.29441643e-276],\n",
              "       [ 0.00000000e+000,  0.00000000e+000,  0.00000000e+000,\n",
              "         0.00000000e+000,  5.11757796e-276,  0.00000000e+000],\n",
              "       [ 0.00000000e+000,  1.00000000e+000,  5.00000000e-001,\n",
              "         5.00000000e-001,  5.27160038e-001,  2.98392024e-001],\n",
              "       [ 0.00000000e+000,  0.00000000e+000,  5.00000000e-001,\n",
              "         5.00000000e-001, -2.55878898e-276,  1.07930590e-291],\n",
              "       [ 1.00000000e+000,  0.00000000e+000,  5.00000000e-001,\n",
              "        -5.00000000e-001, -8.49766023e-001, -9.54443398e-001],\n",
              "       [ 0.00000000e+000,  0.00000000e+000,  0.00000000e+000,\n",
              "         0.00000000e+000,  0.00000000e+000,  2.29441643e-276]])"
            ]
          },
          "execution_count": 21,
          "metadata": {},
          "output_type": "execute_result"
        }
      ],
      "source": [
        "eig_vec"
      ]
    },
    {
      "cell_type": "code",
      "execution_count": 22,
      "metadata": {
        "colab": {
          "base_uri": "https://localhost:8080/"
        },
        "id": "mGu6vlIwGQl1",
        "outputId": "91dd77ee-cdc7-4d98-fac3-cfbe3f207543"
      },
      "outputs": [
        {
          "data": {
            "text/plain": [
              "2"
            ]
          },
          "execution_count": 22,
          "metadata": {},
          "output_type": "execute_result"
        }
      ],
      "source": [
        "np.argmax(eig_val)"
      ]
    },
    {
      "cell_type": "code",
      "execution_count": 23,
      "metadata": {
        "colab": {
          "base_uri": "https://localhost:8080/"
        },
        "id": "hd1z0xA_GHJz",
        "outputId": "fbf82a6c-470f-4ba0-d18b-ba666e48a865"
      },
      "outputs": [
        {
          "data": {
            "text/plain": [
              "1"
            ]
          },
          "execution_count": 23,
          "metadata": {},
          "output_type": "execute_result"
        }
      ],
      "source": [
        "np.argmax(eig_vec[2])"
      ]
    },
    {
      "cell_type": "markdown",
      "metadata": {
        "id": "S6sR28vjHKgv"
      },
      "source": [
        "agen B yang berada di index eigen vector ke-1 merupakan agen dengan ranking terbesar diantara peer groupnya berdasarkan perhitungan page rank eigen."
      ]
    }
  ],
  "metadata": {
    "colab": {
      "name": "Eigen Decomposition.ipynb",
      "provenance": []
    },
    "interpreter": {
      "hash": "ad2bdc8ecc057115af97d19610ffacc2b4e99fae6737bb82f5d7fb13d2f2c186"
    },
    "kernelspec": {
      "display_name": "Python 3.9.12 ('base')",
      "language": "python",
      "name": "python3"
    },
    "language_info": {
      "codemirror_mode": {
        "name": "ipython",
        "version": 3
      },
      "file_extension": ".py",
      "mimetype": "text/x-python",
      "name": "python",
      "nbconvert_exporter": "python",
      "pygments_lexer": "ipython3",
      "version": "3.9.12"
    }
  },
  "nbformat": 4,
  "nbformat_minor": 0
}
